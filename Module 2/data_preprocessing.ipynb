{
 "cells": [
  {
   "cell_type": "markdown",
   "id": "32ae0d24",
   "metadata": {},
   "source": [
    "# Data Preprocessing"
   ]
  },
  {
   "cell_type": "code",
   "execution_count": null,
   "id": "870b2b55",
   "metadata": {},
   "outputs": [],
   "source": [
    "import numpy as np\n",
    "import pandas as pd\n",
    "from scipy import stats\n",
    "import matplotlib.pyplot as plt\n",
    "import seaborn as sns\n",
    "\n",
    "from sklearn.tree import DecisionTreeRegressor\n",
    "from sklearn.preprocessing import StandardScaler\n",
    "from sklearn.model_selection import cross_val_score"
   ]
  },
  {
   "cell_type": "code",
   "execution_count": null,
   "id": "26f47131",
   "metadata": {},
   "outputs": [],
   "source": [
    "df = pd.read_csv('./data/BodyFat.csv')\n",
    "df = df.drop(columns=['IDNO'])\n",
    "\n",
    "df['WEIGHT'] = df['WEIGHT'].transform(lambda x: x * 0.453592).round(1)\n",
    "df['HEIGHT'] = df['HEIGHT'].transform(lambda x: x * 2.54).round(1)\n",
    "\n",
    "df.to_csv('./data/BodyFat_SI.csv', index = False)\n",
    "\n",
    "df.head(10)"
   ]
  },
  {
   "cell_type": "code",
   "execution_count": null,
   "id": "52058692",
   "metadata": {},
   "outputs": [],
   "source": [
    "df.insert(1, 'CALC_BODYFAT', (495 / df['DENSITY'] - 450).round(1))\n",
    "df.insert(2, 'BODYFAT_DIFF', np.abs(df['CALC_BODYFAT'] - df['BODYFAT']).round(1))\n",
    "df.insert(8, 'CALC_BMI', (df['WEIGHT'] / (df['HEIGHT']/100)**2).round(1))\n",
    "df.insert(9, 'BMI_DIFF', np.abs(df['CALC_BMI'] - df['ADIPOSITY']).round(1))\n",
    "df['BODYFAT'] = np.where(df['BODYFAT_DIFF'] >= 3.0, df['CALC_BODYFAT'], df['BODYFAT'])\n",
    "df['ADIPOSITY'] = np.where(df['BMI_DIFF'] >= 3.0, df['CALC_BMI'], df['ADIPOSITY'])\n",
    "df = df.drop(columns=['DENSITY', 'ADIPOSITY', 'CALC_BODYFAT', 'BODYFAT_DIFF', 'CALC_BMI', 'BMI_DIFF'])\n",
    "df = df[(np.abs(stats.zscore(df)) < 3).all(axis=1)]\n",
    "\n",
    "df.to_csv('./data/BodyFat_cleaned.csv', index = False)\n",
    "df.head(10)"
   ]
  },
  {
   "cell_type": "code",
   "execution_count": null,
   "id": "b6816b2a",
   "metadata": {},
   "outputs": [],
   "source": [
    "df.hist(figsize=(10, 10))\n",
    "plt.savefig('plot/feature_distribution.pdf')\n",
    "plt.show()"
   ]
  },
  {
   "cell_type": "code",
   "execution_count": null,
   "id": "72d157d0",
   "metadata": {},
   "outputs": [],
   "source": [
    "corr = df.corr()\n",
    "plt.figure(figsize=(12, 10))\n",
    "sns.heatmap(corr, xticklabels=corr.columns, yticklabels=corr.columns, annot=True)\n",
    "plt.savefig('plot/correlation_matrix.pdf')\n",
    "plt.show()"
   ]
  },
  {
   "cell_type": "code",
   "execution_count": null,
   "id": "ff8e5cb2",
   "metadata": {},
   "outputs": [],
   "source": [
    "X, y = df.iloc[:,1:], df.iloc[:,0]\n",
    "\n",
    "dt = DecisionTreeRegressor()\n",
    "dt.fit(X, y)\n",
    "\n",
    "feature = list(df.columns)[1:]\n",
    "importance = dt.feature_importances_\n",
    "feature_importance = list(zip(feature, importance))\n",
    "feature_importance.sort(key=lambda x:x[1], reverse=True)\n",
    "print('--- Feature Importance (from High to Low) ---')\n",
    "for n, v in feature_importance:\n",
    "    print(f'{n}, Score: {v}')\n",
    "\n",
    "plt.figure(figsize=(15, 6))\n",
    "plt.bar([x[0] for x in feature_importance], [x[1] for x in feature_importance])\n",
    "plt.title('Feature Importance (from High to Low)')\n",
    "plt.xlabel('Feature')\n",
    "plt.ylabel('Score')\n",
    "plt.savefig('plot/feature_importance.pdf')\n",
    "plt.show()"
   ]
  },
  {
   "cell_type": "code",
   "execution_count": null,
   "id": "621916bb",
   "metadata": {},
   "outputs": [],
   "source": []
  }
 ],
 "metadata": {
  "kernelspec": {
   "display_name": "Python 3 (ipykernel)",
   "language": "python",
   "name": "python3"
  },
  "language_info": {
   "codemirror_mode": {
    "name": "ipython",
    "version": 3
   },
   "file_extension": ".py",
   "mimetype": "text/x-python",
   "name": "python",
   "nbconvert_exporter": "python",
   "pygments_lexer": "ipython3",
   "version": "3.9.12"
  }
 },
 "nbformat": 4,
 "nbformat_minor": 5
}
